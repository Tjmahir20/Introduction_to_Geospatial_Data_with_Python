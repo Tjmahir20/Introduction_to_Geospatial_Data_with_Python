{
 "cells": [
  {
   "cell_type": "markdown",
   "id": "ce19d33f-0395-498e-b639-daaf818a30ad",
   "metadata": {},
   "source": [
    "## Workshop\n",
    "Link: https://carpentries-incubator.github.io/geospatial-python/05-access-data.html"
   ]
  },
  {
   "cell_type": "code",
   "execution_count": 2,
   "id": "ac99aa88-e1df-4ea1-ad0c-fb42bb935fde",
   "metadata": {
    "tags": []
   },
   "outputs": [],
   "source": [
    "import rasterio"
   ]
  },
  {
   "cell_type": "code",
   "execution_count": 3,
   "id": "3fb52464-1952-458f-b52a-38aa1f490301",
   "metadata": {
    "tags": []
   },
   "outputs": [],
   "source": [
    "api_url = \"https://earth-search.aws.element84.com/v1\""
   ]
  },
  {
   "cell_type": "code",
   "execution_count": 6,
   "id": "3d1ab9be-dc07-4855-aa12-7efb8ef8cd77",
   "metadata": {
    "collapsed": true,
    "jupyter": {
     "outputs_hidden": true
    },
    "tags": []
   },
   "outputs": [
    {
     "name": "stdout",
     "output_type": "stream",
     "text": [
      "Defaulting to user installation because normal site-packages is not writeableNote: you may need to restart the kernel to use updated packages.\n"
     ]
    },
    {
     "name": "stderr",
     "output_type": "stream",
     "text": [
      "  WARNING: The script jsonschema.exe is installed in 'C:\\Users\\tjmah\\AppData\\Roaming\\Python\\Python311\\Scripts' which is not on PATH.\n",
      "  Consider adding this directory to PATH or, if you prefer to suppress this warning, use --no-warn-script-location.\n",
      "  WARNING: The script stac-client.exe is installed in 'C:\\Users\\tjmah\\AppData\\Roaming\\Python\\Python311\\Scripts' which is not on PATH.\n",
      "  Consider adding this directory to PATH or, if you prefer to suppress this warning, use --no-warn-script-location.\n"
     ]
    },
    {
     "name": "stdout",
     "output_type": "stream",
     "text": [
      "\n",
      "Collecting pystac_client\n",
      "  Obtaining dependency information for pystac_client from https://files.pythonhosted.org/packages/95/57/a9c987b9c9d6c41bbe7050ea5f1ac50c9e50af5c317e6e9122066aeef822/pystac_client-0.7.5-py3-none-any.whl.metadata\n",
      "  Downloading pystac_client-0.7.5-py3-none-any.whl.metadata (5.2 kB)\n",
      "Requirement already satisfied: requests>=2.28.2 in c:\\programdata\\anaconda3\\lib\\site-packages (from pystac_client) (2.31.0)\n",
      "Collecting pystac[validation]>=1.8.2 (from pystac_client)\n",
      "  Obtaining dependency information for pystac[validation]>=1.8.2 from https://files.pythonhosted.org/packages/2a/34/190016e443ff35ed24efacc810b0ae5d770022e8d3fb460608c0764f6c6d/pystac-1.9.0-py3-none-any.whl.metadata\n",
      "  Downloading pystac-1.9.0-py3-none-any.whl.metadata (6.4 kB)\n",
      "Requirement already satisfied: python-dateutil>=2.8.2 in c:\\programdata\\anaconda3\\lib\\site-packages (from pystac_client) (2.8.2)\n",
      "Collecting jsonschema~=4.18 (from pystac[validation]>=1.8.2->pystac_client)\n",
      "  Obtaining dependency information for jsonschema~=4.18 from https://files.pythonhosted.org/packages/39/9d/b035d024c62c85f2e2d4806a59ca7b8520307f34e0932fbc8cc75fe7b2d9/jsonschema-4.21.1-py3-none-any.whl.metadata\n",
      "  Downloading jsonschema-4.21.1-py3-none-any.whl.metadata (7.8 kB)\n",
      "Requirement already satisfied: six>=1.5 in c:\\programdata\\anaconda3\\lib\\site-packages (from python-dateutil>=2.8.2->pystac_client) (1.16.0)\n",
      "Requirement already satisfied: charset-normalizer<4,>=2 in c:\\programdata\\anaconda3\\lib\\site-packages (from requests>=2.28.2->pystac_client) (2.0.4)\n",
      "Requirement already satisfied: idna<4,>=2.5 in c:\\programdata\\anaconda3\\lib\\site-packages (from requests>=2.28.2->pystac_client) (3.4)\n",
      "Requirement already satisfied: urllib3<3,>=1.21.1 in c:\\programdata\\anaconda3\\lib\\site-packages (from requests>=2.28.2->pystac_client) (1.26.16)\n",
      "Requirement already satisfied: certifi>=2017.4.17 in c:\\programdata\\anaconda3\\lib\\site-packages (from requests>=2.28.2->pystac_client) (2023.7.22)\n",
      "Collecting attrs>=22.2.0 (from jsonschema~=4.18->pystac[validation]>=1.8.2->pystac_client)\n",
      "  Obtaining dependency information for attrs>=22.2.0 from https://files.pythonhosted.org/packages/e0/44/827b2a91a5816512fcaf3cc4ebc465ccd5d598c45cefa6703fcf4a79018f/attrs-23.2.0-py3-none-any.whl.metadata\n",
      "  Downloading attrs-23.2.0-py3-none-any.whl.metadata (9.5 kB)\n",
      "Collecting jsonschema-specifications>=2023.03.6 (from jsonschema~=4.18->pystac[validation]>=1.8.2->pystac_client)\n",
      "  Obtaining dependency information for jsonschema-specifications>=2023.03.6 from https://files.pythonhosted.org/packages/ee/07/44bd408781594c4d0a027666ef27fab1e441b109dc3b76b4f836f8fd04fe/jsonschema_specifications-2023.12.1-py3-none-any.whl.metadata\n",
      "  Downloading jsonschema_specifications-2023.12.1-py3-none-any.whl.metadata (3.0 kB)\n",
      "Collecting referencing>=0.28.4 (from jsonschema~=4.18->pystac[validation]>=1.8.2->pystac_client)\n",
      "  Obtaining dependency information for referencing>=0.28.4 from https://files.pythonhosted.org/packages/90/10/1c92edb0a0a14b67ff825bc338e74bc49ab27d3f3bae3f9a02838cba546f/referencing-0.33.0-py3-none-any.whl.metadata\n",
      "  Downloading referencing-0.33.0-py3-none-any.whl.metadata (2.7 kB)\n",
      "Collecting rpds-py>=0.7.1 (from jsonschema~=4.18->pystac[validation]>=1.8.2->pystac_client)\n",
      "  Obtaining dependency information for rpds-py>=0.7.1 from https://files.pythonhosted.org/packages/a8/de/68280c51afdb241111dec873dd7d457986adfd9fd5225494eee0c4a3b9a3/rpds_py-0.18.0-cp311-none-win_amd64.whl.metadata\n",
      "  Downloading rpds_py-0.18.0-cp311-none-win_amd64.whl.metadata (4.2 kB)\n",
      "Downloading pystac_client-0.7.5-py3-none-any.whl (33 kB)\n",
      "Downloading jsonschema-4.21.1-py3-none-any.whl (85 kB)\n",
      "   ---------------------------------------- 0.0/85.5 kB ? eta -:--:--\n",
      "   ---------------------------------------- 85.5/85.5 kB 5.0 MB/s eta 0:00:00\n",
      "Downloading pystac-1.9.0-py3-none-any.whl (181 kB)\n",
      "   ---------------------------------------- 0.0/181.6 kB ? eta -:--:--\n",
      "   --------------------------------------- 181.6/181.6 kB 10.7 MB/s eta 0:00:00\n",
      "Downloading attrs-23.2.0-py3-none-any.whl (60 kB)\n",
      "   ---------------------------------------- 0.0/60.8 kB ? eta -:--:--\n",
      "   ---------------------------------------- 60.8/60.8 kB ? eta 0:00:00\n",
      "Downloading jsonschema_specifications-2023.12.1-py3-none-any.whl (18 kB)\n",
      "Downloading referencing-0.33.0-py3-none-any.whl (26 kB)\n",
      "Downloading rpds_py-0.18.0-cp311-none-win_amd64.whl (206 kB)\n",
      "   ---------------------------------------- 0.0/206.7 kB ? eta -:--:--\n",
      "   --------------------------------------- 206.7/206.7 kB 13.1 MB/s eta 0:00:00\n",
      "Installing collected packages: rpds-py, attrs, referencing, pystac, jsonschema-specifications, jsonschema, pystac_client\n",
      "Successfully installed attrs-23.2.0 jsonschema-4.21.1 jsonschema-specifications-2023.12.1 pystac-1.9.0 pystac_client-0.7.5 referencing-0.33.0 rpds-py-0.18.0\n"
     ]
    }
   ],
   "source": [
    "pip install pystac_client"
   ]
  },
  {
   "cell_type": "code",
   "execution_count": 8,
   "id": "6188274a-b8c9-4418-9619-09510b1d4315",
   "metadata": {
    "tags": []
   },
   "outputs": [],
   "source": [
    "from pystac_client import Client"
   ]
  },
  {
   "cell_type": "code",
   "execution_count": 9,
   "id": "512ebe69-a0cd-4e3d-9a5e-d31d43988ee7",
   "metadata": {
    "tags": []
   },
   "outputs": [],
   "source": [
    "client = Client.open(api_url)"
   ]
  },
  {
   "cell_type": "code",
   "execution_count": null,
   "id": "b7244be4-fb59-4d8f-a980-b02567680f49",
   "metadata": {},
   "outputs": [],
   "source": []
  },
  {
   "cell_type": "markdown",
   "id": "035945a2-45be-4d6d-83fd-3896c5c16ea0",
   "metadata": {},
   "source": [
    "Data Link: https://radiantearth.github.io/stac-browser/#/external/earth-search.aws.element84.com/v1/collections/sentinel-2-l2a?.itemFilterOpen=1"
   ]
  },
  {
   "cell_type": "code",
   "execution_count": 15,
   "id": "e54e860b-e7be-4e96-9940-60fd90c7f08c",
   "metadata": {
    "tags": []
   },
   "outputs": [],
   "source": [
    "collection = \"sentinel-2-l2a\" ## Desirable Collection of Satelites"
   ]
  },
  {
   "cell_type": "markdown",
   "id": "e9678b66-4cc3-4bbf-85d0-500e263b0711",
   "metadata": {},
   "source": [
    "## Searching Data for a ROI"
   ]
  },
  {
   "cell_type": "code",
   "execution_count": 162,
   "id": "e1563c94-55dd-4f8f-aa11-a07a8a9af114",
   "metadata": {
    "tags": []
   },
   "outputs": [
    {
     "data": {
      "image/svg+xml": [
       "<svg xmlns=\"http://www.w3.org/2000/svg\" xmlns:xlink=\"http://www.w3.org/1999/xlink\" width=\"100.0\" height=\"100.0\" viewBox=\"11.098222214083698 36.2860613479277 2.0 2.0\" preserveAspectRatio=\"xMinYMin meet\"><g transform=\"matrix(1,0,0,-1,0,74.5721226958554)\"><circle cx=\"12.098222214083698\" cy=\"37.2860613479277\" r=\"0.06\" stroke=\"#555555\" stroke-width=\"0.02\" fill=\"#66cc99\" opacity=\"0.6\" /></g></svg>"
      ],
      "text/plain": [
       "<POINT (12.098 37.286)>"
      ]
     },
     "execution_count": 162,
     "metadata": {},
     "output_type": "execute_result"
    }
   ],
   "source": [
    "from shapely.geometry import Point\n",
    "# point = Point(4.89, 52.37)                              ## Amsterdam\n",
    "# point = Point(11.214004183451985, 35.09230120258948) ## GER Dam\n",
    "point = Point(12.098222214083698, 37.2860613479277) ## Lake Tana\n",
    "point"
   ]
  },
  {
   "cell_type": "code",
   "execution_count": 163,
   "id": "1f2f75f5-b00f-425e-86ee-09712512c422",
   "metadata": {
    "tags": []
   },
   "outputs": [],
   "source": [
    "search = client.search(\n",
    "    collections =[collection],\n",
    "    intersects = point,\n",
    "    max_items = 10\n",
    ")\n"
   ]
  },
  {
   "cell_type": "code",
   "execution_count": 164,
   "id": "9e1e00da-0d8e-47e6-b1e3-2cc4d4651814",
   "metadata": {
    "tags": []
   },
   "outputs": [
    {
     "name": "stdout",
     "output_type": "stream",
     "text": [
      "1163\n"
     ]
    }
   ],
   "source": [
    "print(search.matched())"
   ]
  },
  {
   "cell_type": "code",
   "execution_count": 165,
   "id": "6fcc1aa4-4a88-479b-a340-530ee6503085",
   "metadata": {
    "tags": []
   },
   "outputs": [
    {
     "name": "stdout",
     "output_type": "stream",
     "text": [
      "10\n"
     ]
    }
   ],
   "source": [
    "items = search.item_collection()\n",
    "print(len(items))"
   ]
  },
  {
   "cell_type": "code",
   "execution_count": 77,
   "id": "aea46cc2-b79f-4097-9ba1-19f1111f4eb6",
   "metadata": {
    "tags": []
   },
   "outputs": [
    {
     "name": "stdout",
     "output_type": "stream",
     "text": [
      "<Item id=S2B_32SPD_20240209_0_L2A>\n",
      "<Item id=S2A_32SPD_20240204_0_L2A>\n",
      "<Item id=S2B_32SPD_20240130_0_L2A>\n",
      "<Item id=S2A_32SPD_20240125_0_L2A>\n",
      "<Item id=S2B_32SPD_20240120_1_L2A>\n",
      "<Item id=S2A_32SPD_20240115_0_L2A>\n",
      "<Item id=S2B_32SPD_20240110_0_L2A>\n",
      "<Item id=S2A_32SPD_20240105_0_L2A>\n",
      "<Item id=S2B_32SPD_20231231_0_L2A>\n",
      "<Item id=S2A_32SPD_20231226_0_L2A>\n"
     ]
    }
   ],
   "source": [
    "for item in items:\n",
    "    print(item)"
   ]
  },
  {
   "cell_type": "code",
   "execution_count": 78,
   "id": "f05dc009-9fc9-4d9c-bacc-0b97bcbeb861",
   "metadata": {
    "tags": []
   },
   "outputs": [],
   "source": [
    "# item = items[0]\n",
    "# print(item.properties)"
   ]
  },
  {
   "cell_type": "code",
   "execution_count": 79,
   "id": "40c21371-0c62-49b8-87ce-ae2d0a292fce",
   "metadata": {
    "tags": []
   },
   "outputs": [
    {
     "name": "stdout",
     "output_type": "stream",
     "text": [
      "{'type': 'Polygon', 'coordinates': [[[10.099051679346509, 35.238078420193936], [10.086017095119333, 34.24812007424131], [11.277818022502068, 34.23176656016562], [11.305134172724502, 35.221114030024694], [10.099051679346509, 35.238078420193936]]]}\n"
     ]
    }
   ],
   "source": [
    "print(item.geometry)"
   ]
  },
  {
   "cell_type": "code",
   "execution_count": 80,
   "id": "725088d6-8cb2-4356-93f5-04d5d1f7a853",
   "metadata": {
    "tags": []
   },
   "outputs": [
    {
     "name": "stdout",
     "output_type": "stream",
     "text": [
      "S2A_32SPD_20231226_0_L2A\n"
     ]
    }
   ],
   "source": [
    "# print(item.datetime)\n",
    "print(item.id)"
   ]
  },
  {
   "cell_type": "markdown",
   "id": "f007d37c-a414-4fe3-99d6-491e417710f2",
   "metadata": {},
   "source": [
    "## Excercise - Searching"
   ]
  },
  {
   "cell_type": "code",
   "execution_count": 166,
   "id": "9cf0b94d-36e7-4215-b452-e9164994183d",
   "metadata": {
    "tags": []
   },
   "outputs": [
    {
     "name": "stdout",
     "output_type": "stream",
     "text": [
      "(11.088222214083698, 36.2760613479277, 13.108222214083698, 38.2960613479277)\n"
     ]
    }
   ],
   "source": [
    "from shapely.geometry import box\n",
    "# box(minx, miny, maxx, maxy, ccw=True)\n",
    "Boundary = box(4.89, 52.37, 5.89, 53.37)\n",
    "\n",
    "bbox = point.buffer(1.01).bounds\n",
    "print(bbox)"
   ]
  },
  {
   "cell_type": "code",
   "execution_count": 173,
   "id": "501a4c36-1614-4c59-8f53-203abc433aad",
   "metadata": {
    "tags": []
   },
   "outputs": [],
   "source": [
    "search = client.search(\n",
    "    collections =[collection],\n",
    "    bbox = bbox,\n",
    "    # datetime = \"2020-03-20/2020-03-30\",\n",
    "    datetime = \"2020-01-01/2024-01-30\",\n",
    "    query = [\"eo:cloud_cover<1\"],\n",
    ")"
   ]
  },
  {
   "cell_type": "code",
   "execution_count": 174,
   "id": "e118c85b-e357-4bdb-af7b-af01c6f0d11f",
   "metadata": {
    "tags": []
   },
   "outputs": [
    {
     "name": "stdout",
     "output_type": "stream",
     "text": [
      "1620\n"
     ]
    }
   ],
   "source": [
    "print(search.matched())"
   ]
  },
  {
   "cell_type": "code",
   "execution_count": 175,
   "id": "57ba1179-eb84-4468-b567-164e364549cc",
   "metadata": {
    "tags": []
   },
   "outputs": [],
   "source": [
    "items = search.item_collection()\n",
    "# items.save_object(\"../Data/01_search.json\")\n",
    "# items.save_object(\"../Data/01_search_lake_tana.json\")"
   ]
  },
  {
   "cell_type": "markdown",
   "id": "dabba20d-1141-4fcf-8d0e-fa84cf82e182",
   "metadata": {},
   "source": [
    "## Exploring the Data"
   ]
  },
  {
   "cell_type": "code",
   "execution_count": 182,
   "id": "380088db-8a9b-4333-a1a6-be250a17325f",
   "metadata": {
    "tags": []
   },
   "outputs": [
    {
     "name": "stdout",
     "output_type": "stream",
     "text": [
      "dict_keys(['aot', 'blue', 'coastal', 'granule_metadata', 'green', 'nir', 'nir08', 'nir09', 'red', 'rededge1', 'rededge2', 'rededge3', 'scl', 'swir16', 'swir22', 'thumbnail', 'tileinfo_metadata', 'visual', 'wvp', 'aot-jp2', 'blue-jp2', 'coastal-jp2', 'green-jp2', 'nir-jp2', 'nir08-jp2', 'nir09-jp2', 'red-jp2', 'rededge1-jp2', 'rededge2-jp2', 'rededge3-jp2', 'scl-jp2', 'swir16-jp2', 'swir22-jp2', 'visual-jp2', 'wvp-jp2'])\n"
     ]
    }
   ],
   "source": [
    "assets = items[9].assets\n",
    "# for key, asset in assets.items():\n",
    "#     print(key,asset.title)\n",
    "\n",
    "print(assets.keys())"
   ]
  },
  {
   "cell_type": "code",
   "execution_count": 183,
   "id": "7fd41acb-0524-4861-8772-8abe5b145334",
   "metadata": {
    "tags": []
   },
   "outputs": [
    {
     "name": "stdout",
     "output_type": "stream",
     "text": [
      "https://sentinel-cogs.s3.us-west-2.amazonaws.com/sentinel-s2-l2a-cogs/32/S/PH/2023/11/S2A_32SPH_20231116_0_L2A/thumbnail.jpg\n"
     ]
    }
   ],
   "source": [
    "print(assets[\"thumbnail\"].href)"
   ]
  },
  {
   "cell_type": "code",
   "execution_count": null,
   "id": "2c9c14b2-0429-47ab-b24b-ef84ba3487df",
   "metadata": {},
   "outputs": [],
   "source": []
  }
 ],
 "metadata": {
  "kernelspec": {
   "display_name": "Python 3 (ipykernel)",
   "language": "python",
   "name": "python3"
  },
  "language_info": {
   "codemirror_mode": {
    "name": "ipython",
    "version": 3
   },
   "file_extension": ".py",
   "mimetype": "text/x-python",
   "name": "python",
   "nbconvert_exporter": "python",
   "pygments_lexer": "ipython3",
   "version": "3.11.5"
  }
 },
 "nbformat": 4,
 "nbformat_minor": 5
}
